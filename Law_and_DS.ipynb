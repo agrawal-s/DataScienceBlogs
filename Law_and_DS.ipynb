{
 "cells": [
  {
   "cell_type": "markdown",
   "metadata": {},
   "source": [
    "# Law and Data Science: Introduction, Components and Importance\n",
    "\n",
    "## Author: Shrikant Agrawal"
   ]
  },
  {
   "cell_type": "markdown",
   "metadata": {},
   "source": [
    " \n",
    "<img src=\"http://www.dsl.dds.nl/wordpress/wp-content/uploads/2017/01/cropped-Just-ASCII.jpg?raw=true\"  align = \"center\"/>\n",
    "\n",
    "\n"
   ]
  },
  {
   "cell_type": "markdown",
   "metadata": {},
   "source": [
    "\n",
    "With arrival of big data technologies, world is changing at an unprecedented rate. To ensure that the society can reap the benefits of Data Science by minimizing its misuse, we need to have robust laws that can help us enforce ethical behavior. Laws often follow ethics and provide a reflection of underlying social values about how we ought to live our lives. From a data scientist’s perspective, laws take part in majorly three areas: ethical practices, Intellectual Property Rights (IPR) and Data privacy."
   ]
  },
  {
   "cell_type": "markdown",
   "metadata": {},
   "source": [
    "\n",
    "Laws are made to best serve the society during the times they were made. However, many times these laws become archaic and do more harm to society than to serve them. Many lawyers believe that technology outpaces laws and we require more flexible legal system that can provide support for the unforeseen circumstances. This brings us to the need of legal reasoning. Legal reasoning is required to make sure that obsolete laws can be either amended or can be replaced by new ones which are more helpful in promoting ethical behavior in the society. In data science, legal reasoning is extremely important to ensure no algorithms or programs are developed that could harm the rights of an individual in any way."
   ]
  },
  {
   "cell_type": "markdown",
   "metadata": {},
   "source": [
    "\n",
    "In terms of content creation, IP laws plays significant role in providing best outcomes to the lawful owners of the contents. IP laws provide support to various areas like Patents, Copyrights, Trade secrets, Trade marks etc. Two major areas of IP laws are Copyright laws and Patent laws. Copyright protects everything which has a fixed medium, is loosely original and have an author. A copyrighted product is protected for the whole lifetime of the author and 70 years after his death. Copyright laws take data as a fact and hence it cannot be copyrighted. However, organization of data in databases can be protected and different jurisdictions have different laws regarding the same. Patents on the other hand, is owned by the ‘inventor’ over his invention and lasts up to 20-25 years depending on the type of invention. The three requirements for an invention to be patentable is novelty, utility and non-obviousness. In terms of software and data, IPR laws provide Copyleft protection to open source software and open data. These laws ensure that open source software that promote the ideas of collaboration, learning from others and access to knowledge movement – 1980s are provided with a firm and theft free platforms."
   ]
  },
  {
   "cell_type": "markdown",
   "metadata": {},
   "source": [
    "\n",
    "Data Privacy is one of the main concerns nowadays after some major data breaches by various tech giants like Facebook and Google. Data privacy is derived from right to privacy which provides 6 fundamental rights like right to be let alone, secrecy and intimacy etc. Information privacy dates back till 1960s and discuss in length about individual’s rights and state’s rights in terms of personal information sharing and surveillance. New laws shed more light on data privacy and steps to follow in an event of data breach. As a data scientist, we should be aware about the recent changes in laws that concern us and should be informed about our actions in case we may need them."
   ]
  }
 ],
 "metadata": {
  "kernelspec": {
   "display_name": "Python 3",
   "language": "python",
   "name": "python3"
  },
  "language_info": {
   "codemirror_mode": {
    "name": "ipython",
    "version": 3
   },
   "file_extension": ".py",
   "mimetype": "text/x-python",
   "name": "python",
   "nbconvert_exporter": "python",
   "pygments_lexer": "ipython3",
   "version": "3.7.7"
  }
 },
 "nbformat": 4,
 "nbformat_minor": 4
}
