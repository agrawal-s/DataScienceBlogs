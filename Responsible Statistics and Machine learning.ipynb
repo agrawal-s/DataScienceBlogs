{
 "cells": [
  {
   "cell_type": "markdown",
   "metadata": {},
   "source": [
    "# Responsible Statistics and Machine learning: A Data Science Short\n",
    "\n",
    "## Author: Shrikant Agrawal"
   ]
  },
  {
   "cell_type": "markdown",
   "metadata": {},
   "source": [
    " \n",
    "<img src=\"https://redasci.org/wp-content/uploads/2018/12/rds1144-1024x349.png?raw=true\"  align = \"center\"/>\n",
    "\n",
    "\n"
   ]
  },
  {
   "cell_type": "markdown",
   "metadata": {},
   "source": [
    "Statistics and data mining are the cornerstones of Data Science. Using sophisticated mathematics and statistical models, we can find implicit, previously unknown and potentially useful patterns or knowledge in data. The knowledgde gathered from these models support our requirements and provide accurate and robust solutions to our problem statements. Hence, it is highly important to make sure that such models represent true information from data and no adulteration is done to the models just to provide any significant results. It is also important that once we have created our model, it should be not distinguish the results based on any bias. It is to be tested on all parameters and alternate models are also considered to confirm the significance of our model."
   ]
  },
  {
   "cell_type": "markdown",
   "metadata": {},
   "source": [
    "When we create our model to predict a decision there are always the case where we might have missed a crucial part of decision making system that might affect the outcome of our algorithm. It is also possible that the results we have gathered are merely based on chance and true outcome may not always be what we wanted. Hence we use hypothesis testing to make sure that our outcomes are indeed true representation of the real world. First, we create a null hypothesis H0 which supports the decision from algorithm and alternate hypothesis H1 which is exclusive of the decision. This can be other way round as well. Then we use various techniques like t-test, Z-test, χ²- test etc. to accept or reject our hypothesis. However, in order to prove/disprove our hypothesis, we must not implement malicious practices like p-value hacking or sampling data to prove the outcomes.\n"
   ]
  },
  {
   "cell_type": "markdown",
   "metadata": {},
   "source": [
    "\n",
    "Every technology is designed so that every individual in the society as a whole can be benefitted equally irrespective of who they are, their cultural and religious beliefs or their sexual orientation. Similarly, we have to make sure that the algorithms we design to build AI based decision systems do not bias results in any manner. Cases like unequal wages for female employees, loan rejection due to different ethnicity, profile rejection due to sexual orientation have come up and give rise to fundamental question of equality in the society. Here, algorithms are not at fault and neither are the developers who built them. This bias could generate from the flawed data itself or due to the trends that are followed generally in the society. Hence, it is essential to account for such anomalies to de-bias the data to remove any biased decision systems. Most common approach for gender de-biasing is to use gender neutral works like ‘police officer’ instead of ‘policemen’ etc. The objective is to maximize models’ ability to correctly provide a solution while minimizing its dependence on any such bias-introducing elements."
   ]
  },
  {
   "cell_type": "markdown",
   "metadata": {},
   "source": [
    "As Data scientists we are fully responsible of any ML model that we release in the world. Hence, we should be mindful of any such anomalies that can hinder the performance of our models. We should be transparent about our techniques and make sure that the data/algorithms that we develop should not misrepresent the society in any manner."
   ]
  }
 ],
 "metadata": {
  "kernelspec": {
   "display_name": "Python 3",
   "language": "python",
   "name": "python3"
  },
  "language_info": {
   "codemirror_mode": {
    "name": "ipython",
    "version": 3
   },
   "file_extension": ".py",
   "mimetype": "text/x-python",
   "name": "python",
   "nbconvert_exporter": "python",
   "pygments_lexer": "ipython3",
   "version": "3.7.7"
  }
 },
 "nbformat": 4,
 "nbformat_minor": 4
}
