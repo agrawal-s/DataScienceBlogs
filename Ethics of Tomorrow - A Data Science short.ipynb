{
 "cells": [
  {
   "cell_type": "markdown",
   "metadata": {},
   "source": [
    "# Ethics of Tomorrow: A Data Science Short\n",
    "\n",
    "## Author: Shrikant Agrawal"
   ]
  },
  {
   "cell_type": "markdown",
   "metadata": {},
   "source": [
    " \n",
    "<img src=\"https://www.economist.com/img/b/1280/721/90/sites/default/files/images/print-edition/20170506_LDD001_0.jpg?raw=true\"  align = \"center\"/>\n",
    "\n",
    "\n"
   ]
  },
  {
   "cell_type": "markdown",
   "metadata": {},
   "source": [
    "An <a href=\"https://www.economist.com/leaders/2017/05/06/the-worlds-most-valuable-resource-is-no-longer-oil-but-data\" target=\"_blank\" >article</a> in May 2017 from “The Economist” suggests that the world’s most valuable resource is no longer oil, but data. The era of Big Data announced its arrival when Barack Obama won the 2011 US presidential election using Big Data analytics on voters’ data collected from various sources including social media sites. While there are countless benefits to Data Science, there are possible undesired consequences. Developing a shared sense of value is extremely important to reap the benefits of Data Science (DS) along with minimizing the harm it can do to society."
   ]
  },
  {
   "cell_type": "markdown",
   "metadata": {},
   "source": [
    "The massiveness of “Big Data” can be imagined by the fact that on an average, we produce 2.5 quintillion bytes of data each day. DS has provided a strong infrastructure to every industry and has become an integral part of our daily lives. However, like every other scientific advancement, there is a darker side of this field. Incidents like Cambridge Analytica scandal, Target’s pregnancy prediction incident and OKCupid’s falsely matchmaking of users violates people’s privacy and threatens their trust in the use of such platforms."
   ]
  },
  {
   "cell_type": "markdown",
   "metadata": {},
   "source": [
    "We have unprecedented access to data and virtually no limits to what we can do with it. This is where we question the morality and ethics of DS. Ethical reasoning is the cornerstone of any civilization and it help us differentiate between right or wrong. There are four areas in DS where ethical behaviour faces threat i.e. Research, Data, Algorithms and Practices. For example, various cases are observed when the research data collection is performed on people specific to certain group which doesn’t represent the whole society and hence compromise the results. In other cases, it was found that automated software and algorithms failed to predict the actual scenario due to which individuals were denied opportunities they actually deserved. All such instances call for strong involvement of ethical reasoning to decide what is OK to do and what’s not."
   ]
  },
  {
   "cell_type": "markdown",
   "metadata": {},
   "source": [
    "Philosophers throughout the history have approached the ethical reasoning in different ways. Kahneman and Tversky promote logical arguments which shed light to the “syllogism, a.k.a. premises and conclusion” approach. Some follow alternate approaches like conceptual analysis, consistency and case comparison. Another popular approach is reasoning from principles (Deontology), consequences (Utilitarian approach) and virtues (Aristotle’s Nicomachean Ethics.) Since an individual may not fully understand the complexity of various ethical cases, an Institutional Review Board (IRB) comes into picture which judges balancing of various values and principles. A practical ethics decision-making framework can provide strong foundations to DS and ensure its best use towards mankind."
   ]
  },
  {
   "cell_type": "markdown",
   "metadata": {},
   "source": [
    "Data Science has greatly changed the course of humanity since its arrival and has potential to do more. However, human intervention in vital decision-making processes is still required to provide the “sentimental outlook” which algorithms cannot provide. Furthermore, results from analytics should not be taken as absolute but just an aid to ensure that no individual is harmed due to the erroneous results from such algorithms. To conclude, we can think of this quote from Sagan's book Pale Blue Dot, “To me, it underscores our responsibility to deal more kindly with one another, and to preserve and cherish the pale blue dot, the only home we've ever known.”"
   ]
  }
 ],
 "metadata": {
  "kernelspec": {
   "display_name": "Python 3",
   "language": "python",
   "name": "python3"
  },
  "language_info": {
   "codemirror_mode": {
    "name": "ipython",
    "version": 3
   },
   "file_extension": ".py",
   "mimetype": "text/x-python",
   "name": "python",
   "nbconvert_exporter": "python",
   "pygments_lexer": "ipython3",
   "version": "3.7.7"
  }
 },
 "nbformat": 4,
 "nbformat_minor": 4
}
